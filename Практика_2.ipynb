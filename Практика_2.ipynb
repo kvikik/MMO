{
  "cells": [
    {
      "cell_type": "markdown",
      "metadata": {
        "id": "view-in-github",
        "colab_type": "text"
      },
      "source": [
        "<a href=\"https://colab.research.google.com/github/kvikik/MMO/blob/main/%D0%9F%D1%80%D0%B0%D0%BA%D1%82%D0%B8%D0%BA%D0%B0_2.ipynb\" target=\"_parent\"><img src=\"https://colab.research.google.com/assets/colab-badge.svg\" alt=\"Open In Colab\"/></a>"
      ]
    },
    {
      "cell_type": "markdown",
      "metadata": {
        "id": "nqqcaamYu3rQ"
      },
      "source": [
        "# Домашнее задание про практике 2"
      ]
    },
    {
      "cell_type": "markdown",
      "metadata": {
        "id": "PmV7k0V0viI3"
      },
      "source": [
        "- Провести разведочный анализ EDA (описать полученный результат). Тут важно, влияет ли X[i] на Y (примеры в практике 2)\n",
        "- Описать полученный результат относительно анализа целевой перменной и зависимой (см. практика 2)\n",
        "- Подобороться с пропусками в данных (при наличии в датасете). Объяснить способ выборка борьбы с пропуском\n",
        "- Обучить модель линейной регресии на всей выборке X, y. Вывести метрики\n",
        "- Сделать train_test_split и обучить на обучающей выборке. Предсказать результат на обучающей и тестовой выборках. Вывести метрики, объяснить полученный результат"
      ]
    },
    {
      "cell_type": "markdown",
      "source": [
        "##Первичный анализ данных\n",
        "\n"
      ],
      "metadata": {
        "id": "1XHkPui343Hr"
      }
    },
    {
      "cell_type": "markdown",
      "source": [
        "##Определение типов переменных.\n",
        "Для второй работы была взята другая базза данных."
      ],
      "metadata": {
        "id": "ocdumrPHn1f4"
      }
    },
    {
      "cell_type": "markdown",
      "source": [
        "###**Номинальные переменные:**\n",
        "\n",
        "Gender (пол)\n",
        "\n",
        "Occupation (профессия)\n",
        "\n",
        "Sleep Disorder (расстройство сна)\n",
        "\n",
        "BMI Category (категория ИМТ)\n",
        "\n",
        "###**Порядковые переменные:**\n",
        "\n",
        "Person ID (идентификатор)\n",
        "\n",
        "###**Числовые переменные:**\n",
        "\n",
        "Age (возраст)\n",
        "\n",
        "Sleep Duration (длительность сна)\n",
        "\n",
        "Physical Activity Level (уровень физической активности)\n",
        "\n",
        "Heart Rate (пульс)\n",
        "\n",
        "Daily Steps (ежедневные шаги)\n",
        "\n",
        "Blood Pressure (давление) — выглядит как числовое, но по содержанию может быть расценено как групповая метка, если представить строкой (пониженное, нормальное, повышенное давление)\n",
        "\n",
        "Quality of Sleep (качество сна)\n",
        "\n",
        "Stress Level (уровень стресса)\n"
      ],
      "metadata": {
        "id": "r7K2wyrWpqKE"
      }
    },
    {
      "cell_type": "code",
      "execution_count": 4,
      "metadata": {
        "id": "o_fx2kEEzlJd",
        "colab": {
          "base_uri": "https://localhost:8080/"
        },
        "outputId": "84b0c987-d26b-4c9e-e069-b3d94b0a8eaa"
      },
      "outputs": [
        {
          "output_type": "stream",
          "name": "stdout",
          "text": [
            "Requirement already satisfied: pandas in /usr/local/lib/python3.12/dist-packages (2.2.2)\n",
            "Requirement already satisfied: seaborn in /usr/local/lib/python3.12/dist-packages (0.13.2)\n",
            "Requirement already satisfied: scikit-learn in /usr/local/lib/python3.12/dist-packages (1.6.1)\n",
            "Requirement already satisfied: numpy>=1.26.0 in /usr/local/lib/python3.12/dist-packages (from pandas) (2.0.2)\n",
            "Requirement already satisfied: python-dateutil>=2.8.2 in /usr/local/lib/python3.12/dist-packages (from pandas) (2.9.0.post0)\n",
            "Requirement already satisfied: pytz>=2020.1 in /usr/local/lib/python3.12/dist-packages (from pandas) (2025.2)\n",
            "Requirement already satisfied: tzdata>=2022.7 in /usr/local/lib/python3.12/dist-packages (from pandas) (2025.2)\n",
            "Requirement already satisfied: matplotlib!=3.6.1,>=3.4 in /usr/local/lib/python3.12/dist-packages (from seaborn) (3.10.0)\n",
            "Requirement already satisfied: scipy>=1.6.0 in /usr/local/lib/python3.12/dist-packages (from scikit-learn) (1.16.2)\n",
            "Requirement already satisfied: joblib>=1.2.0 in /usr/local/lib/python3.12/dist-packages (from scikit-learn) (1.5.2)\n",
            "Requirement already satisfied: threadpoolctl>=3.1.0 in /usr/local/lib/python3.12/dist-packages (from scikit-learn) (3.6.0)\n",
            "Requirement already satisfied: contourpy>=1.0.1 in /usr/local/lib/python3.12/dist-packages (from matplotlib!=3.6.1,>=3.4->seaborn) (1.3.3)\n",
            "Requirement already satisfied: cycler>=0.10 in /usr/local/lib/python3.12/dist-packages (from matplotlib!=3.6.1,>=3.4->seaborn) (0.12.1)\n",
            "Requirement already satisfied: fonttools>=4.22.0 in /usr/local/lib/python3.12/dist-packages (from matplotlib!=3.6.1,>=3.4->seaborn) (4.60.1)\n",
            "Requirement already satisfied: kiwisolver>=1.3.1 in /usr/local/lib/python3.12/dist-packages (from matplotlib!=3.6.1,>=3.4->seaborn) (1.4.9)\n",
            "Requirement already satisfied: packaging>=20.0 in /usr/local/lib/python3.12/dist-packages (from matplotlib!=3.6.1,>=3.4->seaborn) (25.0)\n",
            "Requirement already satisfied: pillow>=8 in /usr/local/lib/python3.12/dist-packages (from matplotlib!=3.6.1,>=3.4->seaborn) (11.3.0)\n",
            "Requirement already satisfied: pyparsing>=2.3.1 in /usr/local/lib/python3.12/dist-packages (from matplotlib!=3.6.1,>=3.4->seaborn) (3.2.5)\n",
            "Requirement already satisfied: six>=1.5 in /usr/local/lib/python3.12/dist-packages (from python-dateutil>=2.8.2->pandas) (1.17.0)\n"
          ]
        }
      ],
      "source": [
        "!pip install pandas seaborn scikit-learn"
      ]
    },
    {
      "cell_type": "code",
      "execution_count": 5,
      "metadata": {
        "id": "-ByF7CbPu8tB"
      },
      "outputs": [],
      "source": [
        "import pandas as pd"
      ]
    },
    {
      "cell_type": "code",
      "source": [
        "categorical = [\"cash_type\", \"coffee_name\"]\n",
        "ordinal = [\"Weekday\", \"Month_name\", \"Time_of_Day\", \"Date\", \"Time\", \"hour_of_day\", \"Weekdaysort\", \"Monthsort\"]\n",
        "numeric = [\"money\"]"
      ],
      "metadata": {
        "id": "Myz-VB2PpnyL"
      },
      "execution_count": 6,
      "outputs": []
    },
    {
      "cell_type": "code",
      "execution_count": 9,
      "metadata": {
        "id": "TE1kiTVbu7gI"
      },
      "outputs": [],
      "source": [
        "df = pd.read_csv(\"/content/sample_data/Sleep_health_and_lifestyle_dataset.csv\")"
      ]
    },
    {
      "cell_type": "code",
      "source": [
        "# Удаление лишних столбцов и дубликатов\n",
        "df = df.drop(columns=['Person ID'])\n",
        "df = df.drop_duplicates().reset_index(drop=True)"
      ],
      "metadata": {
        "id": "8yW-VBfvxu0Z"
      },
      "execution_count": 10,
      "outputs": []
    },
    {
      "cell_type": "code",
      "execution_count": 11,
      "metadata": {
        "id": "cHnS6uyPu_ss",
        "colab": {
          "base_uri": "https://localhost:8080/"
        },
        "outputId": "29d6ec3c-58aa-4649-c4ed-00d198540f27"
      },
      "outputs": [
        {
          "output_type": "stream",
          "name": "stdout",
          "text": [
            "<class 'pandas.core.frame.DataFrame'>\n",
            "RangeIndex: 132 entries, 0 to 131\n",
            "Data columns (total 12 columns):\n",
            " #   Column                   Non-Null Count  Dtype  \n",
            "---  ------                   --------------  -----  \n",
            " 0   Gender                   132 non-null    object \n",
            " 1   Age                      132 non-null    int64  \n",
            " 2   Occupation               132 non-null    object \n",
            " 3   Sleep Duration           132 non-null    float64\n",
            " 4   Quality of Sleep         132 non-null    int64  \n",
            " 5   Physical Activity Level  132 non-null    int64  \n",
            " 6   Stress Level             132 non-null    int64  \n",
            " 7   BMI Category             132 non-null    object \n",
            " 8   Blood Pressure           132 non-null    object \n",
            " 9   Heart Rate               132 non-null    int64  \n",
            " 10  Daily Steps              132 non-null    int64  \n",
            " 11  Sleep Disorder           59 non-null     object \n",
            "dtypes: float64(1), int64(6), object(5)\n",
            "memory usage: 12.5+ KB\n"
          ]
        }
      ],
      "source": [
        "df.info()"
      ]
    },
    {
      "cell_type": "markdown",
      "source": [
        "В переменной Sleep Disorder есть пропуски, предпологаемо, потому что у части пациентов просто нет расстройства сна.\n",
        "\n",
        "Пропуски заменяем на \"None\" (не выявлено расстройство сна) — так корректнее для модели, чем заполнять \"модой\" или удалять строки."
      ],
      "metadata": {
        "id": "nElOPz6ozh24"
      }
    },
    {
      "cell_type": "code",
      "source": [
        "# Категориальные признаки\n",
        "cat_cols = ['Gender', 'Occupation', 'BMI Category', 'Sleep Disorder']\n",
        "df['Sleep Disorder'] = df['Sleep Disorder'].fillna('None')  # Заполняем пропуски"
      ],
      "metadata": {
        "id": "IatUndhEzOfz"
      },
      "execution_count": 12,
      "outputs": []
    },
    {
      "cell_type": "code",
      "source": [
        "X_cat = pd.get_dummies(df[cat_cols], drop_first=True)      # OneHot-кодировка"
      ],
      "metadata": {
        "id": "7W_RJtHi1s9l"
      },
      "execution_count": 13,
      "outputs": []
    },
    {
      "cell_type": "code",
      "source": [],
      "metadata": {
        "id": "xVk6x4VmyeaE"
      },
      "execution_count": 13,
      "outputs": []
    },
    {
      "cell_type": "code",
      "execution_count": null,
      "metadata": {
        "id": "kYBmPfxlvBUs"
      },
      "outputs": [],
      "source": [
        "# преобразовать категориальные признаки в category\n",
        "# df['column'] = df.column.astye('category')"
      ]
    },
    {
      "cell_type": "code",
      "execution_count": null,
      "metadata": {
        "id": "mNCCwK52vKpO"
      },
      "outputs": [],
      "source": [
        "# выбрать целевую переменную и разделить на X, y\n",
        "# целевая переменная - числовой непрерывный признак\n",
        "\n",
        "y = df.you_varialbe\n",
        "X = df.drop('you_variable', axis=1)"
      ]
    },
    {
      "cell_type": "code",
      "source": [
        "# Числовые признаки\n",
        "num_cols = ['Age', 'Sleep Duration', 'Physical Activity Level', 'Heart Rate', 'Daily Steps', 'Stress Level']\n",
        "scaler = StandardScaler()\n",
        "X_num = pd.DataFrame(scaler.fit_transform(df[num_cols]), columns=num_cols)"
      ],
      "metadata": {
        "id": "l0M6280B6X6F"
      },
      "execution_count": null,
      "outputs": []
    },
    {
      "cell_type": "code",
      "source": [
        "# Итоговая таблица признаков X и целевая y\n",
        "X = pd.concat([X_num, X_cat], axis=1)\n",
        "y = df['Quality of Sleep']"
      ],
      "metadata": {
        "id": "BXMW0NJ560Oi"
      },
      "execution_count": null,
      "outputs": []
    },
    {
      "cell_type": "code",
      "source": [
        "print('Размерность X:', X.shape)\n",
        "print('Размерность y:', y.shape)"
      ],
      "metadata": {
        "id": "zVFcDovf63ZC"
      },
      "execution_count": null,
      "outputs": []
    },
    {
      "cell_type": "markdown",
      "metadata": {
        "id": "eAjGz9j5wUlB"
      },
      "source": [
        "## EDA (разведочный анализ относительно целевой переменной)\n",
        "\n",
        "в этом же блоке побороться с проусками, важно сделать именно после разведочного анализа\n",
        "- Y и категориальные\n",
        "- Y и числовые\n",
        "- Описать все полученные результаты в своем блоке\n",
        "\n",
        "- Отобрать признаки для дальнейшего анализа, записать в ```best_features```"
      ]
    },
    {
      "cell_type": "code",
      "execution_count": null,
      "metadata": {
        "id": "YJot4MMAz6oc"
      },
      "outputs": [],
      "source": [
        "categorial_features = [] # перечислить названия колонок с категориальными фичами\n",
        "numeric_features = [] # перечислить названия колонок с категориальными фичами\n",
        "best_features = categorial_features + numeric_features"
      ]
    },
    {
      "cell_type": "markdown",
      "metadata": {
        "id": "Vz4kuQwtwYxX"
      },
      "source": [
        "## Моделирование"
      ]
    },
    {
      "cell_type": "markdown",
      "metadata": {
        "id": "0Bw6wuHtm4F9"
      },
      "source": [
        "**Общая задача:**\n",
        "Сравнить несколько вариантов линейной регрессии на датасете (с предобработкой признаков: стандартизация числовых, OneHot/Label для категориальных).\n",
        "\n",
        "**предобработка**\n",
        "- Категориальные признаки преобразовать с помощью OneHotEncoder (если признак является типом **bool** по логике можно интерпретировать как (true, false) То можно LabelEncoder)\n",
        "- Числовые признаки записать в `X_scaled` и провести стандартизацию с помощью `StandardScaler`. Желательно без категориальных признаков\n",
        "\n",
        "\n",
        "---\n",
        "**Метрики**: (MAE, MAPE, R², MSE, RMSE)\n",
        "\n",
        "---\n",
        "\n",
        "**Модель 1.**\n",
        "\n",
        "- Использовать **все признаки (кроме y)**.\n",
        "- Обучить на **всей выборке** (без разделения).\n",
        "- Сделать предсказания на этой же выборке.\n",
        "- Вывести метрики и интерпретировать.\n",
        "- Построить график коэффициентов (model.coef\\_ vs X\\_scaled.columns) и интерпретировать.\n",
        "\n",
        "---\n",
        "\n",
        "**Модель 2.**\n",
        "\n",
        "- Использовать **все признаки**.\n",
        "- Сделать `train_test_split`.\n",
        "- Обучить на `X_train`, предсказать на `X_train` и `X_test`.\n",
        "- Вывести метрики для обучающей и тестовой выборки, интерпретировать.\n",
        "- Визуализировать коэффициенты и интерпретировать.\n",
        "\n",
        "---\n",
        "\n",
        "**Модель 3.**\n",
        "\n",
        "- Использовать только **best\\_features** (отобранные признаки).\n",
        "- Обучить на **всей выборке**.\n",
        "- Предсказать на всей выборке.\n",
        "- Вывести метрики качества и интерпретировать.\n",
        "- Визуализировать коэффициенты и интерпретировать.\n",
        "\n",
        "---\n",
        "\n",
        "**Модель 4.**\n",
        "\n",
        "- Использовать **best\\_features**.\n",
        "- Сделать `train_test_split`.\n",
        "- Обучить на `X_train`, предсказать на `X_train` и `X_test`.\n",
        "- Вывести метрики качества для обучающей и тестовой выборки, интерпретировать.\n",
        "- Визуализировать коэффициенты и интерпретировать.\n",
        "\n",
        "---\n",
        "\n",
        "P.S.\n",
        "- Важно не забывать о стандартизации и разделении категориальных признаков на отдельные олонки\n",
        "- Все примеры есть в практике 2\n",
        "\n",
        "\n",
        "P.S.S\n",
        "Старайтесь делать собственные предположения, ChatGPT задачу решит, но вы не добьетесь понимания полученных результатов\n",
        "\n",
        "---\n",
        "В результате должно получиться 4 модели\n",
        "\n",
        "- первые две на всех колонках (фичах)\n",
        "- последующие на отобранных фичах (колонках)"
      ]
    },
    {
      "cell_type": "markdown",
      "metadata": {
        "id": "xII6_LJFoJi_"
      },
      "source": [
        "## Ниже представлены подсказки, то что нужно использовать и как должно называться"
      ]
    },
    {
      "cell_type": "markdown",
      "metadata": {
        "id": "JuY4g6YozpKy"
      },
      "source": [
        "### Преобразование категориальных"
      ]
    },
    {
      "cell_type": "code",
      "execution_count": null,
      "metadata": {
        "id": "K_bpGlkhzSfa"
      },
      "outputs": [],
      "source": [
        "# https://habr.com/ru/articles/456294/ - виды Encoder для категориальных признаков\n",
        "# LabelEncoder, OneHotEncoder\n",
        "# Label для bool (0,1), (yes, no), (true, false)\n",
        "# OneHot - для меток\n",
        "\n",
        "from sklearn.preprocessing import OneHotEncoder # https://scikit-learn.org/stable/modules/generated/sklearn.preprocessing.OneHotEncoder.html\n",
        "\n",
        "encoder = OneHotEncoder(sparse_output=False)  # sparse=False → выдаёт DataFrame, а не numpy матрицу\n",
        "encoded = encoder.fit_transform(X[[\"YOU_VARIABLE_NAME\"]])  # .fit_transfom(X) - обучить и трансформировать, т.е. вернуть результат"
      ]
    },
    {
      "cell_type": "code",
      "execution_count": null,
      "metadata": {
        "id": "2DIWTLnvzniK"
      },
      "outputs": [],
      "source": [
        "X_encoded = ..."
      ]
    },
    {
      "cell_type": "markdown",
      "metadata": {
        "id": "ysTXn17Dzr3H"
      },
      "source": []
    },
    {
      "cell_type": "code",
      "execution_count": null,
      "metadata": {
        "id": "YxApu4kLzaDA"
      },
      "outputs": [],
      "source": [
        "X = X.drop('YOU_VARIABLE_NAME', axis=1) if 'type' in X.columns else X # убираем базовую колонку type = [red, white]\n",
        "X = pd.concat([X, X_encoded], axis=1) if 'type_white' not in X.columns else X # оставляем 2 разные колонки [type_red, type_white]"
      ]
    },
    {
      "cell_type": "code",
      "execution_count": null,
      "metadata": {
        "id": "0nRcfBBtzn7Q"
      },
      "outputs": [],
      "source": []
    },
    {
      "cell_type": "markdown",
      "metadata": {
        "id": "2g8xnVRWztIe"
      },
      "source": [
        "### Преобразование числовых"
      ]
    },
    {
      "cell_type": "code",
      "execution_count": null,
      "metadata": {
        "id": "qgvhXjiPzIDH"
      },
      "outputs": [],
      "source": [
        "from sklearn.preprocessing import StandardScaler\n",
        "\n",
        "scaler = StandardScaler()\n",
        "X_scaled = scaler.fit_transform(X) # попробовать избавиться от категориальных. То ест не засовывать такие признаки в стандартизацию\n"
      ]
    },
    {
      "cell_type": "markdown",
      "metadata": {
        "id": "F1g1S9y3z19w"
      },
      "source": [
        "### Модель"
      ]
    },
    {
      "cell_type": "code",
      "execution_count": null,
      "metadata": {
        "id": "Pb5MFErPz4TA"
      },
      "outputs": [],
      "source": [
        "from sklearn.linear_model import LinearRegression\n",
        "\n",
        "model = LinearRegression()\n",
        "\n",
        "# model.fit(X, y) - обучение\n",
        "# model.predict(X) - предсказание y\n",
        "# model.coef_ - коэфициенты фич (каждый коэф относится по индексу к своей фиче)\n",
        "\n",
        "# для того, чтобы не запутаться используйте следующий нейминг\n",
        "model1 = LinearRegression() # модель задачи 1\n",
        "model2 = LinearRegression() # модель задачи 2\n",
        "... # и так далее"
      ]
    },
    {
      "cell_type": "markdown",
      "metadata": {
        "id": "pnybFq72zu3V"
      },
      "source": [
        "### Разделение на обучающую, тестовую"
      ]
    },
    {
      "cell_type": "code",
      "execution_count": null,
      "metadata": {
        "id": "EjRhp2c4y9Sg"
      },
      "outputs": [],
      "source": [
        "from sklearn.model_selection import train_test_split\n",
        "\n",
        "X_train, X_test, y_train, y_test = train_test_split(X_scaled, y, test_size=0.2, random_state=42) # Рездляем данные как 80% - обучение, 20% на тест"
      ]
    },
    {
      "cell_type": "code",
      "execution_count": null,
      "metadata": {
        "id": "DaRSeDT4zoqc"
      },
      "outputs": [],
      "source": []
    },
    {
      "cell_type": "code",
      "execution_count": null,
      "metadata": {
        "id": "IMxtXnJzuzx9"
      },
      "outputs": [],
      "source": []
    }
  ],
  "metadata": {
    "colab": {
      "provenance": [],
      "include_colab_link": true
    },
    "kernelspec": {
      "display_name": "Python 3",
      "name": "python3"
    },
    "language_info": {
      "name": "python"
    }
  },
  "nbformat": 4,
  "nbformat_minor": 0
}