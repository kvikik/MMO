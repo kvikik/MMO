{
  "cells": [
    {
      "cell_type": "markdown",
      "metadata": {
        "id": "view-in-github",
        "colab_type": "text"
      },
      "source": [
        "<a href=\"https://colab.research.google.com/github/kvikik/MMO/blob/main/%D0%9F%D1%80%D0%B0%D0%BA%D1%82%D0%B8%D0%BA%D0%B0_2.ipynb\" target=\"_parent\"><img src=\"https://colab.research.google.com/assets/colab-badge.svg\" alt=\"Open In Colab\"/></a>"
      ]
    },
    {
      "cell_type": "markdown",
      "metadata": {
        "id": "nqqcaamYu3rQ"
      },
      "source": [
        "# Домашнее задание про практике 2"
      ]
    },
    {
      "cell_type": "markdown",
      "metadata": {
        "id": "PmV7k0V0viI3"
      },
      "source": [
        "- Провести разведочный анализ EDA (описать полученный результат). Тут важно, влияет ли X[i] на Y (примеры в практике 2)\n",
        "- Описать полученный результат относительно анализа целевой перменной и зависимой (см. практика 2)\n",
        "- Подобороться с пропусками в данных (при наличии в датасете). Объяснить способ выборка борьбы с пропуском\n",
        "- Обучить модель линейной регресии на всей выборке X, y. Вывести метрики\n",
        "- Сделать train_test_split и обучить на обучающей выборке. Предсказать результат на обучающей и тестовой выборках. Вывести метрики, объяснить полученный результат"
      ]
    },
    {
      "cell_type": "markdown",
      "source": [
        "##Первичный анализ данных\n",
        "\n"
      ],
      "metadata": {
        "id": "1XHkPui343Hr"
      }
    },
    {
      "cell_type": "markdown",
      "source": [
        "##Определение типов переменных.\n",
        "Для второй работы была взята другая базза данных."
      ],
      "metadata": {
        "id": "ocdumrPHn1f4"
      }
    },
    {
      "cell_type": "markdown",
      "source": [
        "###**Номинальные переменные:**\n",
        "\n",
        "Gender (пол)\n",
        "\n",
        "Occupation (профессия)\n",
        "\n",
        "Sleep Disorder (расстройство сна)\n",
        "\n",
        "BMI Category (категория ИМТ)\n",
        "\n",
        "###**Порядковые переменные:**\n",
        "\n",
        "Person ID (идентификатор)\n",
        "\n",
        "###**Числовые переменные:**\n",
        "\n",
        "Age (возраст)\n",
        "\n",
        "Sleep Duration (длительность сна)\n",
        "\n",
        "Physical Activity Level (уровень физической активности)\n",
        "\n",
        "Heart Rate (пульс)\n",
        "\n",
        "Daily Steps (ежедневные шаги)\n",
        "\n",
        "Blood Pressure (давление) — выглядит как числовое, но по содержанию может быть расценено как групповая метка, если представить строкой (пониженное, нормальное, повышенное давление)\n",
        "\n",
        "Quality of Sleep (качество сна)\n",
        "\n",
        "Stress Level (уровень стресса)\n"
      ],
      "metadata": {
        "id": "r7K2wyrWpqKE"
      }
    },
    {
      "cell_type": "markdown",
      "source": [
        "“Quality of Sleep” используется как целевая переменная потому, что:\n",
        "\n",
        "Это интегральный показатель состояния человека (итог здорового сна), который хочет объяснить и предсказать большинство исследований по теме “здоровье и образ жизни”.\n",
        "\n",
        "Это числовая переменная, ее удобно анализировать с помощью регрессии: она отражает уровень качества сна, где большие значения — хороший сон, маленькие — плохой.\n",
        "\n",
        "Остальные параметры в датасете — либо объясняющие (возраст, профессия, физ.активность и т.д.), либо номинальные характеристики, влияющие на качество сна, но не являющиеся его результатом."
      ],
      "metadata": {
        "id": "KmGQFse38q4I"
      }
    },
    {
      "cell_type": "code",
      "execution_count": 1,
      "metadata": {
        "id": "o_fx2kEEzlJd",
        "colab": {
          "base_uri": "https://localhost:8080/"
        },
        "outputId": "917437fb-31ae-4e6c-b720-4d966bb2b01a"
      },
      "outputs": [
        {
          "output_type": "stream",
          "name": "stdout",
          "text": [
            "Requirement already satisfied: pandas in /usr/local/lib/python3.12/dist-packages (2.2.2)\n",
            "Requirement already satisfied: seaborn in /usr/local/lib/python3.12/dist-packages (0.13.2)\n",
            "Requirement already satisfied: scikit-learn in /usr/local/lib/python3.12/dist-packages (1.6.1)\n",
            "Requirement already satisfied: numpy>=1.26.0 in /usr/local/lib/python3.12/dist-packages (from pandas) (2.0.2)\n",
            "Requirement already satisfied: python-dateutil>=2.8.2 in /usr/local/lib/python3.12/dist-packages (from pandas) (2.9.0.post0)\n",
            "Requirement already satisfied: pytz>=2020.1 in /usr/local/lib/python3.12/dist-packages (from pandas) (2025.2)\n",
            "Requirement already satisfied: tzdata>=2022.7 in /usr/local/lib/python3.12/dist-packages (from pandas) (2025.2)\n",
            "Requirement already satisfied: matplotlib!=3.6.1,>=3.4 in /usr/local/lib/python3.12/dist-packages (from seaborn) (3.10.0)\n",
            "Requirement already satisfied: scipy>=1.6.0 in /usr/local/lib/python3.12/dist-packages (from scikit-learn) (1.16.2)\n",
            "Requirement already satisfied: joblib>=1.2.0 in /usr/local/lib/python3.12/dist-packages (from scikit-learn) (1.5.2)\n",
            "Requirement already satisfied: threadpoolctl>=3.1.0 in /usr/local/lib/python3.12/dist-packages (from scikit-learn) (3.6.0)\n",
            "Requirement already satisfied: contourpy>=1.0.1 in /usr/local/lib/python3.12/dist-packages (from matplotlib!=3.6.1,>=3.4->seaborn) (1.3.3)\n",
            "Requirement already satisfied: cycler>=0.10 in /usr/local/lib/python3.12/dist-packages (from matplotlib!=3.6.1,>=3.4->seaborn) (0.12.1)\n",
            "Requirement already satisfied: fonttools>=4.22.0 in /usr/local/lib/python3.12/dist-packages (from matplotlib!=3.6.1,>=3.4->seaborn) (4.60.1)\n",
            "Requirement already satisfied: kiwisolver>=1.3.1 in /usr/local/lib/python3.12/dist-packages (from matplotlib!=3.6.1,>=3.4->seaborn) (1.4.9)\n",
            "Requirement already satisfied: packaging>=20.0 in /usr/local/lib/python3.12/dist-packages (from matplotlib!=3.6.1,>=3.4->seaborn) (25.0)\n",
            "Requirement already satisfied: pillow>=8 in /usr/local/lib/python3.12/dist-packages (from matplotlib!=3.6.1,>=3.4->seaborn) (11.3.0)\n",
            "Requirement already satisfied: pyparsing>=2.3.1 in /usr/local/lib/python3.12/dist-packages (from matplotlib!=3.6.1,>=3.4->seaborn) (3.2.5)\n",
            "Requirement already satisfied: six>=1.5 in /usr/local/lib/python3.12/dist-packages (from python-dateutil>=2.8.2->pandas) (1.17.0)\n"
          ]
        }
      ],
      "source": [
        "!pip install pandas seaborn scikit-learn"
      ]
    },
    {
      "cell_type": "code",
      "execution_count": 36,
      "metadata": {
        "id": "-ByF7CbPu8tB"
      },
      "outputs": [],
      "source": [
        "import pandas as pd\n",
        "from sklearn.model_selection import train_test_split\n",
        "from sklearn.preprocessing import StandardScaler\n",
        "from sklearn.linear_model import LinearRegression\n",
        "from sklearn.metrics import mean_absolute_error, mean_squared_error, r2_score\n",
        "import matplotlib.pyplot as plt"
      ]
    },
    {
      "cell_type": "code",
      "source": [
        "categorical = [\"cash_type\", \"coffee_name\"]\n",
        "ordinal = [\"Weekday\", \"Month_name\", \"Time_of_Day\", \"Date\", \"Time\", \"hour_of_day\", \"Weekdaysort\", \"Monthsort\"]\n",
        "numeric = [\"money\"]"
      ],
      "metadata": {
        "id": "Myz-VB2PpnyL"
      },
      "execution_count": 12,
      "outputs": []
    },
    {
      "cell_type": "code",
      "execution_count": 13,
      "metadata": {
        "id": "TE1kiTVbu7gI"
      },
      "outputs": [],
      "source": [
        "df = pd.read_csv(\"/content/sample_data/Sleep_health_and_lifestyle_dataset.csv\")"
      ]
    },
    {
      "cell_type": "code",
      "source": [
        "# Удаление лишних столбцов и дубликатов\n",
        "df = df.drop(columns=['Person ID'])\n",
        "df = df.drop_duplicates().reset_index(drop=True)"
      ],
      "metadata": {
        "id": "8yW-VBfvxu0Z"
      },
      "execution_count": 14,
      "outputs": []
    },
    {
      "cell_type": "code",
      "execution_count": 15,
      "metadata": {
        "id": "cHnS6uyPu_ss",
        "colab": {
          "base_uri": "https://localhost:8080/"
        },
        "outputId": "59638fb1-0ab0-46d9-de4b-86defba062c7"
      },
      "outputs": [
        {
          "output_type": "stream",
          "name": "stdout",
          "text": [
            "<class 'pandas.core.frame.DataFrame'>\n",
            "RangeIndex: 132 entries, 0 to 131\n",
            "Data columns (total 12 columns):\n",
            " #   Column                   Non-Null Count  Dtype  \n",
            "---  ------                   --------------  -----  \n",
            " 0   Gender                   132 non-null    object \n",
            " 1   Age                      132 non-null    int64  \n",
            " 2   Occupation               132 non-null    object \n",
            " 3   Sleep Duration           132 non-null    float64\n",
            " 4   Quality of Sleep         132 non-null    int64  \n",
            " 5   Physical Activity Level  132 non-null    int64  \n",
            " 6   Stress Level             132 non-null    int64  \n",
            " 7   BMI Category             132 non-null    object \n",
            " 8   Blood Pressure           132 non-null    object \n",
            " 9   Heart Rate               132 non-null    int64  \n",
            " 10  Daily Steps              132 non-null    int64  \n",
            " 11  Sleep Disorder           59 non-null     object \n",
            "dtypes: float64(1), int64(6), object(5)\n",
            "memory usage: 12.5+ KB\n"
          ]
        }
      ],
      "source": [
        "df.info()"
      ]
    },
    {
      "cell_type": "markdown",
      "source": [
        "В переменной Sleep Disorder есть пропуски, предпологаемо, потому что у части пациентов просто нет расстройства сна.\n",
        "\n",
        "Пропуски заменяем на \"None\" (не выявлено расстройство сна) — так корректнее для модели, чем заполнять \"модой\" или удалять строки."
      ],
      "metadata": {
        "id": "nElOPz6ozh24"
      }
    },
    {
      "cell_type": "code",
      "source": [
        "# Категориальные признаки\n",
        "cat_cols = ['Gender', 'Occupation', 'BMI Category', 'Sleep Disorder']\n",
        "df['Sleep Disorder'] = df['Sleep Disorder'].fillna('None')  # Заполняем пропуски"
      ],
      "metadata": {
        "id": "IatUndhEzOfz"
      },
      "execution_count": 16,
      "outputs": []
    },
    {
      "cell_type": "code",
      "source": [
        "X_cat = pd.get_dummies(df[cat_cols], drop_first=True)      # OneHot-кодировка"
      ],
      "metadata": {
        "id": "7W_RJtHi1s9l"
      },
      "execution_count": 17,
      "outputs": []
    },
    {
      "cell_type": "code",
      "source": [
        "# Числовые признаки\n",
        "num_cols = ['Age', 'Sleep Duration', 'Physical Activity Level', 'Heart Rate', 'Daily Steps', 'Stress Level']\n",
        "scaler = StandardScaler()\n",
        "X_num = pd.DataFrame(scaler.fit_transform(df[num_cols]), columns=num_cols)"
      ],
      "metadata": {
        "id": "l0M6280B6X6F"
      },
      "execution_count": 18,
      "outputs": []
    },
    {
      "cell_type": "code",
      "source": [
        "# Итоговая таблица признаков X и целевая y\n",
        "X = pd.concat([X_num, X_cat], axis=1)\n",
        "y = df['Quality of Sleep']"
      ],
      "metadata": {
        "id": "BXMW0NJ560Oi"
      },
      "execution_count": 19,
      "outputs": []
    },
    {
      "cell_type": "code",
      "source": [
        "print('Размерность X:', X.shape)\n",
        "print('Размерность y:', y.shape)"
      ],
      "metadata": {
        "id": "zVFcDovf63ZC",
        "outputId": "15c7c6a5-f644-436b-fb99-97b1a686dcd3",
        "colab": {
          "base_uri": "https://localhost:8080/"
        }
      },
      "execution_count": 21,
      "outputs": [
        {
          "output_type": "stream",
          "name": "stdout",
          "text": [
            "Размерность X: (132, 22)\n",
            "Размерность y: (132,)\n"
          ]
        }
      ]
    },
    {
      "cell_type": "markdown",
      "metadata": {
        "id": "Vz4kuQwtwYxX"
      },
      "source": [
        "## Моделирование"
      ]
    },
    {
      "cell_type": "code",
      "source": [
        "# линейная регрессия на всех признаках, всей выборке\n",
        "model = LinearRegression()\n",
        "model.fit(X, y)\n",
        "preds = model.predict(X)\n",
        "\n",
        "mae = mean_absolute_error(y, preds)\n",
        "mse = mean_squared_error(y, preds)\n",
        "rmse = mse ** 0.5\n",
        "r2 = r2_score(y, preds)\n",
        "\n",
        "coeffs = pd.Series(model.coef_, index=X.columns)\n",
        "\n",
        "print('MAE:', mae)\n",
        "print('MSE:', mse)\n",
        "print('RMSE:', rmse)\n",
        "print('R2:', r2)\n",
        "print('\\nКоэффициенты признаков (важность):')\n",
        "display(coeffs)"
      ],
      "metadata": {
        "id": "qEwWSorhBHhA",
        "outputId": "96c0f85e-2ff0-4f34-ec37-362dcf86cd84",
        "colab": {
          "base_uri": "https://localhost:8080/",
          "height": 878
        }
      },
      "execution_count": 27,
      "outputs": [
        {
          "output_type": "stream",
          "name": "stdout",
          "text": [
            "MAE: 0.21379448092207387\n",
            "MSE: 0.08849759309671801\n",
            "RMSE: 0.2974854502269279\n",
            "R2: 0.9446286246007894\n",
            "\n",
            "Коэффициенты признаков (важность):\n"
          ]
        },
        {
          "output_type": "display_data",
          "data": {
            "text/plain": [
              "Age                                0.444128\n",
              "Sleep Duration                     0.175426\n",
              "Physical Activity Level            0.014731\n",
              "Heart Rate                        -0.120383\n",
              "Daily Steps                        0.083956\n",
              "Stress Level                      -0.707826\n",
              "Gender_Male                        0.400902\n",
              "Occupation_Doctor                 -0.546468\n",
              "Occupation_Engineer               -0.682548\n",
              "Occupation_Lawyer                 -0.436232\n",
              "Occupation_Manager                -0.525218\n",
              "Occupation_Nurse                  -0.535450\n",
              "Occupation_Sales Representative   -1.517093\n",
              "Occupation_Salesperson            -0.861530\n",
              "Occupation_Scientist              -0.800291\n",
              "Occupation_Software Engineer      -0.605677\n",
              "Occupation_Teacher                -0.671141\n",
              "BMI Category_Normal Weight        -0.084345\n",
              "BMI Category_Obese                -0.128530\n",
              "BMI Category_Overweight           -0.453212\n",
              "Sleep Disorder_None                0.213537\n",
              "Sleep Disorder_Sleep Apnea         0.177184\n",
              "dtype: float64"
            ],
            "text/html": [
              "<div>\n",
              "<style scoped>\n",
              "    .dataframe tbody tr th:only-of-type {\n",
              "        vertical-align: middle;\n",
              "    }\n",
              "\n",
              "    .dataframe tbody tr th {\n",
              "        vertical-align: top;\n",
              "    }\n",
              "\n",
              "    .dataframe thead th {\n",
              "        text-align: right;\n",
              "    }\n",
              "</style>\n",
              "<table border=\"1\" class=\"dataframe\">\n",
              "  <thead>\n",
              "    <tr style=\"text-align: right;\">\n",
              "      <th></th>\n",
              "      <th>0</th>\n",
              "    </tr>\n",
              "  </thead>\n",
              "  <tbody>\n",
              "    <tr>\n",
              "      <th>Age</th>\n",
              "      <td>0.444128</td>\n",
              "    </tr>\n",
              "    <tr>\n",
              "      <th>Sleep Duration</th>\n",
              "      <td>0.175426</td>\n",
              "    </tr>\n",
              "    <tr>\n",
              "      <th>Physical Activity Level</th>\n",
              "      <td>0.014731</td>\n",
              "    </tr>\n",
              "    <tr>\n",
              "      <th>Heart Rate</th>\n",
              "      <td>-0.120383</td>\n",
              "    </tr>\n",
              "    <tr>\n",
              "      <th>Daily Steps</th>\n",
              "      <td>0.083956</td>\n",
              "    </tr>\n",
              "    <tr>\n",
              "      <th>Stress Level</th>\n",
              "      <td>-0.707826</td>\n",
              "    </tr>\n",
              "    <tr>\n",
              "      <th>Gender_Male</th>\n",
              "      <td>0.400902</td>\n",
              "    </tr>\n",
              "    <tr>\n",
              "      <th>Occupation_Doctor</th>\n",
              "      <td>-0.546468</td>\n",
              "    </tr>\n",
              "    <tr>\n",
              "      <th>Occupation_Engineer</th>\n",
              "      <td>-0.682548</td>\n",
              "    </tr>\n",
              "    <tr>\n",
              "      <th>Occupation_Lawyer</th>\n",
              "      <td>-0.436232</td>\n",
              "    </tr>\n",
              "    <tr>\n",
              "      <th>Occupation_Manager</th>\n",
              "      <td>-0.525218</td>\n",
              "    </tr>\n",
              "    <tr>\n",
              "      <th>Occupation_Nurse</th>\n",
              "      <td>-0.535450</td>\n",
              "    </tr>\n",
              "    <tr>\n",
              "      <th>Occupation_Sales Representative</th>\n",
              "      <td>-1.517093</td>\n",
              "    </tr>\n",
              "    <tr>\n",
              "      <th>Occupation_Salesperson</th>\n",
              "      <td>-0.861530</td>\n",
              "    </tr>\n",
              "    <tr>\n",
              "      <th>Occupation_Scientist</th>\n",
              "      <td>-0.800291</td>\n",
              "    </tr>\n",
              "    <tr>\n",
              "      <th>Occupation_Software Engineer</th>\n",
              "      <td>-0.605677</td>\n",
              "    </tr>\n",
              "    <tr>\n",
              "      <th>Occupation_Teacher</th>\n",
              "      <td>-0.671141</td>\n",
              "    </tr>\n",
              "    <tr>\n",
              "      <th>BMI Category_Normal Weight</th>\n",
              "      <td>-0.084345</td>\n",
              "    </tr>\n",
              "    <tr>\n",
              "      <th>BMI Category_Obese</th>\n",
              "      <td>-0.128530</td>\n",
              "    </tr>\n",
              "    <tr>\n",
              "      <th>BMI Category_Overweight</th>\n",
              "      <td>-0.453212</td>\n",
              "    </tr>\n",
              "    <tr>\n",
              "      <th>Sleep Disorder_None</th>\n",
              "      <td>0.213537</td>\n",
              "    </tr>\n",
              "    <tr>\n",
              "      <th>Sleep Disorder_Sleep Apnea</th>\n",
              "      <td>0.177184</td>\n",
              "    </tr>\n",
              "  </tbody>\n",
              "</table>\n",
              "</div><br><label><b>dtype:</b> float64</label>"
            ]
          },
          "metadata": {}
        }
      ]
    },
    {
      "cell_type": "markdown",
      "source": [
        "mae — средняя ошибка, ближе к реальным значениям (интерпретируемая в единицах “качество сна”).\n",
        "\n",
        "mse, rmse — показывают типичное квадратичное отклонение.\n",
        "\n",
        "r2 — доля объяснённой дисперсии (чем ближе к 1 — тем лучше объясняется качество сна).\n",
        "\n",
        "coeffs — вклад каждого признака (чем больше модуль — тем сильнее влияние, знак — направление)."
      ],
      "metadata": {
        "id": "4nR92-G2BWRm"
      }
    },
    {
      "cell_type": "code",
      "source": [
        "plt.figure(figsize=(10,5))\n",
        "plt.scatter(range(len(y)), y, s=10, color='deepskyblue', label='y (реальное)', alpha=0.7)\n",
        "plt.scatter(range(len(y)), preds, s=15, color='orange', label='y_pred (модель)', alpha=0.7)\n",
        "plt.title('Сравнение y и y_pred')\n",
        "plt.xlabel('Номер наблюдения')\n",
        "plt.ylabel('Значение')\n",
        "plt.legend()\n",
        "plt.show()\n"
      ],
      "metadata": {
        "id": "ghYrEYEdG5vx",
        "outputId": "13b70089-68ab-444b-d055-0a66e0f8efdd",
        "colab": {
          "base_uri": "https://localhost:8080/",
          "height": 470
        }
      },
      "execution_count": 34,
      "outputs": [
        {
          "output_type": "display_data",
          "data": {
            "text/plain": [
              "<Figure size 1000x500 with 1 Axes>"
            ],
            "image/png": "[encoded data removed]"
          },
          "metadata": {}
        }
      ]
    },
    {
      "cell_type": "markdown",
      "source": [
        "Добавим для каждого наблюдения вертикальную линию, соединяющую реальное и предсказанное значение. Так визуально лечге посмотреть точность — чем короче линия, тем меньше ошибка."
      ],
      "metadata": {
        "id": "6Tg13QkhI-fV"
      }
    },
    {
      "cell_type": "code",
      "source": [
        "plt.figure(figsize=(10,5))\n",
        "plt.scatter(range(len(y)), y, s=10, color='deepskyblue', label='y (реальное)', alpha=0.7)\n",
        "plt.scatter(range(len(y)), preds, s=15, color='orange', label='y_pred (модель)', alpha=0.7)\n",
        "\n",
        "# Добавляем соединяющие линии между каждой парой реальное-прогноз\n",
        "for i in range(len(y)):\n",
        "    plt.plot([i, i], [y.iloc[i], preds[i]], color='gold', alpha=0.5, linewidth=0.7)\n",
        "\n",
        "plt.title('Сравнение y и y_pred')\n",
        "plt.xlabel('Номер наблюдения')\n",
        "plt.ylabel('Значение')\n",
        "plt.legend()\n",
        "plt.show()"
      ],
      "metadata": {
        "id": "6Yi2YMnqIu2R",
        "outputId": "fbedd10d-491b-4b2d-9d6d-c9d0a4d107fb",
        "colab": {
          "base_uri": "https://localhost:8080/",
          "height": 470
        }
      },
      "execution_count": 33,
      "outputs": [
        {
          "output_type": "display_data",
          "data": {
            "text/plain": [
              "<Figure size 1000x500 with 1 Axes>"
            ],
            "image/png": "[encoded data removed]"
          },
          "metadata": {}
        }
      ]
    },
    {
      "cell_type": "markdown",
      "source": [
        "## Разделение на тестовую и обучающую"
      ],
      "metadata": {
        "id": "Fjpa6zCqJ-gk"
      }
    },
    {
      "cell_type": "code",
      "source": [
        "# Разделяем данные: 70% — обучение, 30% — тест\n",
        "X_train, X_test, y_train, y_test = train_test_split(X, y, test_size=0.3, random_state=42)\n",
        "\n",
        "# Обучение модели на training\n",
        "model = LinearRegression()\n",
        "model.fit(X_train, y_train)\n",
        "\n",
        "# Предсказания: test\n",
        "y_pred = model.predict(X_test)\n",
        "\n",
        "# Метрики для тестовой выборки\n",
        "mae = mean_absolute_error(y_test, y_pred)\n",
        "mse = mean_squared_error(y_test, y_pred)\n",
        "rmse = mse ** 0.5\n",
        "r2 = r2_score(y_test, y_pred)\n",
        "\n",
        "print('MAE (test):', mae)\n",
        "print('MSE (test):', mse)\n",
        "print('RMSE (test):', rmse)\n",
        "print('R2 (test):', r2)"
      ],
      "metadata": {
        "id": "cIz_irfPKV-P",
        "outputId": "30b4a334-0966-43eb-cf25-13f485de0e5d",
        "colab": {
          "base_uri": "https://localhost:8080/"
        }
      },
      "execution_count": 37,
      "outputs": [
        {
          "output_type": "stream",
          "name": "stdout",
          "text": [
            "MAE (test): 0.24020505056377656\n",
            "MSE (test): 0.11470859402665687\n",
            "RMSE (test): 0.3386865719609457\n",
            "R2 (test): 0.9232397530561894\n"
          ]
        }
      ]
    },
    {
      "cell_type": "code",
      "source": [
        "# Визуализация: сравнение реальных и прогнозных для тестовой выборки + линии\n",
        "plt.figure(figsize=(10,5))\n",
        "plt.scatter(range(len(y_test)), y_test, s=10, color='deepskyblue', label='y (реальное)', alpha=0.7)\n",
        "plt.scatter(range(len(y_test)), y_pred, s=15, color='orange', label='y_pred (модель)', alpha=0.7)\n",
        "\n",
        "for i in range(len(y_test)):\n",
        "    plt.plot([i, i], [y_test.iloc[i], y_pred[i]], color='gold', alpha=0.5, linewidth=0.7)\n",
        "\n",
        "plt.title('Сравнение y и y_pred (тест)')\n",
        "plt.xlabel('Номер наблюдения')\n",
        "plt.ylabel('Значение')\n",
        "plt.legend()\n",
        "plt.show()"
      ],
      "metadata": {
        "id": "v1zIr8CKKfmk",
        "outputId": "68bdf61d-f52d-4dc2-8b52-5561d2b6468c",
        "colab": {
          "base_uri": "https://localhost:8080/",
          "height": 470
        }
      },
      "execution_count": 38,
      "outputs": [
        {
          "output_type": "display_data",
          "data": {
            "text/plain": [
              "<Figure size 1000x500 with 1 Axes>"
            ],
            "image/png": "[encoded data removed]"
          },
          "metadata": {}
        }
      ]
    },
    {
      "cell_type": "markdown",
      "source": [
        "Большинство прогнознируемых значений модели совпадает с реальными довольно хорошо — точки расположены близко друг к другу, а соединительные линии короткие. Однако для части наблюдений встречаются заметные расхождения, что отражается в более длинных линиях.\n",
        "В целом, модель способна объяснять и предсказывать тенденции “качества сна” на основе признаков, но отдельные индивидуальные различия могут остаться неучтёнными.\n",
        "Коэффициент детерминации  стремится к 1 ,что гооврить, что модель работает хорошо."
      ],
      "metadata": {
        "id": "u9wlp4Q_KxWA"
      }
    }
  ],
  "metadata": {
    "colab": {
      "provenance": [],
      "include_colab_link": true
    },
    "kernelspec": {
      "display_name": "Python 3",
      "name": "python3"
    },
    "language_info": {
      "name": "python"
    }
  },
  "nbformat": 4,
  "nbformat_minor": 0
}